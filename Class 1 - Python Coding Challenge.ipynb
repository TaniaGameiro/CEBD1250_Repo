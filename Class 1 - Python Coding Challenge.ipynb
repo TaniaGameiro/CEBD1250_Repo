{
 "cells": [
  {
   "cell_type": "markdown",
   "metadata": {},
   "source": [
    "## Class 1 - Python Coding Challenge"
   ]
  },
  {
   "cell_type": "markdown",
   "metadata": {},
   "source": [
    "Question 1 - Ask the user for a number. Depending on whether the number is even or odd, print out an appropriate message. "
   ]
  },
  {
   "cell_type": "code",
   "execution_count": 5,
   "metadata": {},
   "outputs": [
    {
     "name": "stdout",
     "output_type": "stream",
     "text": [
      "Enter a number: 2\n",
      "EVEN\n"
     ]
    }
   ],
   "source": [
    "num = int(input(\"Enter a number: \"))\n",
    "mod = num % 2\n",
    "if mod > 0:\n",
    "    print(\"ODD\")\n",
    "else:\n",
    "    print(\"EVEN\")"
   ]
  },
  {
   "cell_type": "markdown",
   "metadata": {},
   "source": [
    "Question 2 - Expanding the previous exercise, let’s say I give you a list saved in a variable: a = [1, 4, 9, 16, 25, 36, 49, 64, 81, 100]. Write one line of Python that takes this list a and makes a new list that has only the even elements of this list in it."
   ]
  },
  {
   "cell_type": "code",
   "execution_count": 3,
   "metadata": {},
   "outputs": [
    {
     "name": "stdout",
     "output_type": "stream",
     "text": [
      "[1, 4, 9, 16, 25, 36, 49, 64, 81, 100]\n"
     ]
    }
   ],
   "source": [
    "a = [1, 4, 9, 16, 25, 36, 49, 64, 81, 100]\n",
    "print(a)"
   ]
  },
  {
   "cell_type": "code",
   "execution_count": 4,
   "metadata": {},
   "outputs": [
    {
     "name": "stdout",
     "output_type": "stream",
     "text": [
      "4 16 36 64 100 "
     ]
    }
   ],
   "source": [
    "for num in a:\n",
    "    if num % 2 == 0: \n",
    "       print(num, end = \" \")"
   ]
  },
  {
   "cell_type": "markdown",
   "metadata": {},
   "source": [
    "Question 3 - Create a function that takes a list of numbers. Return the largest number in the list."
   ]
  },
  {
   "cell_type": "code",
   "execution_count": 9,
   "metadata": {},
   "outputs": [
    {
     "name": "stdout",
     "output_type": "stream",
     "text": [
      "100\n"
     ]
    }
   ],
   "source": [
    "def max_num_in_list( list ):\n",
    "    max = list[ 0 ]\n",
    "    for a in list:\n",
    "        if a > max:\n",
    "            max = a\n",
    "    return max\n",
    "print(max_num_in_list([1, 4, 9, 16, 25, 36, 49, 64, 81, 100]))"
   ]
  },
  {
   "cell_type": "markdown",
   "metadata": {},
   "source": [
    "Question 4 - Ask the user for a string and print out whether this string is a palindrome or not. (A palindrome is a string that reads the same forwards and backwards.)"
   ]
  },
  {
   "cell_type": "code",
   "execution_count": 14,
   "metadata": {},
   "outputs": [
    {
     "name": "stdout",
     "output_type": "stream",
     "text": [
      "Enter a stringmadam\n",
      "True\n"
     ]
    }
   ],
   "source": [
    "palindrome = input(\"Enter a string\")\n",
    "\n",
    "if palindrome == palindrome[::-1]:\n",
    "    print(\"True\")\n",
    "else:\n",
    "    print(\"False\")"
   ]
  },
  {
   "cell_type": "markdown",
   "metadata": {},
   "source": [
    "Question 5 - Write a program that asks the user how many Fibonnaci numbers to generate and then generates them."
   ]
  },
  {
   "cell_type": "code",
   "execution_count": 17,
   "metadata": {},
   "outputs": [
    {
     "name": "stdout",
     "output_type": "stream",
     "text": [
      "[0, 1, 1, 2, 3, 5, 8, 13, 21, 34, 55, 89, 144, 233, 377, 610, 987, 1597, 2584, 4181]\n"
     ]
    }
   ],
   "source": [
    "from itertools import islice\n",
    "\n",
    "def fib(a=0, b=1):\n",
    "    yield a\n",
    "    while True:\n",
    "        yield b\n",
    "        a, b = b, a + b\n",
    "\n",
    "fibonacci_numbers = list(islice(fib(), 20))\n",
    "print(fibonacci_numbers)"
   ]
  },
  {
   "cell_type": "markdown",
   "metadata": {},
   "source": [
    "Question 6. Write a program that takes a number and print its square."
   ]
  },
  {
   "cell_type": "code",
   "execution_count": 34,
   "metadata": {},
   "outputs": [
    {
     "name": "stdout",
     "output_type": "stream",
     "text": [
      "4\n",
      "16\n",
      "4096\n"
     ]
    }
   ],
   "source": [
    "def square_number(number):\n",
    "    return number ** 2\n",
    "print(square_number(2))\n",
    "print(square_number(4))\n",
    "print(square_number(64))"
   ]
  },
  {
   "cell_type": "markdown",
   "metadata": {},
   "source": [
    "Question 7. Given an list of positive integers with higher than 0 the answer should contain average values."
   ]
  },
  {
   "cell_type": "markdown",
   "metadata": {},
   "source": [
    "Question 8. Return the number of vowels per string."
   ]
  },
  {
   "cell_type": "code",
   "execution_count": 41,
   "metadata": {},
   "outputs": [
    {
     "name": "stdout",
     "output_type": "stream",
     "text": [
      "Enter a phrase: hello\n",
      "2\n"
     ]
    }
   ],
   "source": [
    "vowel = ['a', 'e', 'i', 'o', 'u']\n",
    "Sentence = input(\"Enter a phrase: \")\n",
    "count = 0\n",
    "for letter in Sentence:\n",
    "    if letter in vowel:\n",
    "        count += 1\n",
    "print(count)"
   ]
  },
  {
   "cell_type": "markdown",
   "metadata": {},
   "source": [
    "Question 9. Write a program to convert degrees of Fahrenheit to Celsius."
   ]
  },
  {
   "cell_type": "code",
   "execution_count": 43,
   "metadata": {},
   "outputs": [
    {
     "name": "stdout",
     "output_type": "stream",
     "text": [
      "Enter a temperature in Fahrenheit: 40\n",
      "Temperature: 40 Fahrenheit =  4.444444444444445  C\n"
     ]
    }
   ],
   "source": [
    "Fahrenheit = int(input(\"Enter a temperature in Fahrenheit: \"))\n",
    "Celsius = (Fahrenheit - 32) * 5.0/9.0\n",
    "\n",
    "print(\"Temperature:\", Fahrenheit, \"Fahrenheit = \", Celsius, \" C\")"
   ]
  }
 ],
 "metadata": {
  "kernelspec": {
   "display_name": "Python 3",
   "language": "python",
   "name": "python3"
  },
  "language_info": {
   "codemirror_mode": {
    "name": "ipython",
    "version": 3
   },
   "file_extension": ".py",
   "mimetype": "text/x-python",
   "name": "python",
   "nbconvert_exporter": "python",
   "pygments_lexer": "ipython3",
   "version": "3.6.4"
  }
 },
 "nbformat": 4,
 "nbformat_minor": 2
}
